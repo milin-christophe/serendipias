{
 "cells": [
  {
   "cell_type": "markdown",
   "metadata": {},
   "source": [
    "# Calcul des montants empruntables en fonction d'hypothèses mensualité fixe et de conditions d'emprunt (taux/maturité)"
   ]
  },
  {
   "cell_type": "markdown",
   "metadata": {},
   "source": [
    "## Capacité de remboursement mensuel"
   ]
  },
  {
   "cell_type": "markdown",
   "metadata": {},
   "source": [
    "_(alternativement: à renseigner par l'utilisateur)_"
   ]
  },
  {
   "cell_type": "code",
   "execution_count": 7,
   "metadata": {
    "collapsed": true
   },
   "outputs": [],
   "source": [
    "mensualite=50.0"
   ]
  },
  {
   "cell_type": "markdown",
   "metadata": {},
   "source": [
    "## Hypothèses d'emprunt"
   ]
  },
  {
   "cell_type": "markdown",
   "metadata": {},
   "source": [
    "_(alternativement: à extraire d'une base de données recensant les prêts bancaires existants)_"
   ]
  },
  {
   "cell_type": "code",
   "execution_count": 8,
   "metadata": {
    "collapsed": true
   },
   "outputs": [],
   "source": [
    "taux=([0.0, 0.025, 0.05, 0.075]) # Hypothèses de taux\n",
    "duree=([10, 15, 20, 25]) # Hypothèses de durée"
   ]
  },
  {
   "cell_type": "markdown",
   "metadata": {},
   "source": [
    "## Définition du programme"
   ]
  },
  {
   "cell_type": "code",
   "execution_count": 9,
   "metadata": {
    "collapsed": false
   },
   "outputs": [],
   "source": [
    "# Importation des modules nécessaires aux simulations\n",
    "from __future__ import division\n",
    "import numpy as np\n",
    "import matplotlib.pyplot as plt\n",
    "%matplotlib inline\n",
    "plt.rcParams['figure.figsize']=(10.,12.)\n",
    "\n",
    "# Initialisation\n",
    "capital=np.zeros((4, 4)) \n",
    "\n",
    "# Calcul des résultats\n",
    "for i in range(len(taux)):\n",
    "    for j in range(len(duree)):\n",
    "        capital[i, j]=np.pv(taux[i]/12, duree[j]*12, -mensualite)"
   ]
  },
  {
   "cell_type": "markdown",
   "metadata": {},
   "source": [
    "## Visualisation des résultations de la simulation"
   ]
  },
  {
   "cell_type": "code",
   "execution_count": 10,
   "metadata": {
    "collapsed": false
   },
   "outputs": [
    {
     "name": "stdout",
     "output_type": "stream",
     "text": [
      "[[  6000.     9000.    12000.    15000.  ]\n",
      " [  5303.92   7498.62   9435.69  11145.37]\n",
      " [  4714.07   6322.76   7576.27   8553.  ]\n",
      " [  4212.24   5393.67   6206.61   6765.98]]\n"
     ]
    }
   ],
   "source": [
    "print(np.round(capital,2))"
   ]
  },
  {
   "cell_type": "markdown",
   "metadata": {},
   "source": [
    "## Visualisation graphique des résultations de la simulation"
   ]
  },
  {
   "cell_type": "code",
   "execution_count": 11,
   "metadata": {
    "collapsed": false
   },
   "outputs": [
    {
     "data": {
      "text/plain": [
       "([<matplotlib.axis.XTick at 0x6207b30>,\n",
       "  <matplotlib.axis.XTick at 0x61fad30>,\n",
       "  <matplotlib.axis.XTick at 0x61fe9f0>,\n",
       "  <matplotlib.axis.XTick at 0x62492d0>],\n",
       " <a list of 4 Text xticklabel objects>)"
      ]
     },
     "execution_count": 11,
     "metadata": {},
     "output_type": "execute_result"
    },
    {
     "data": {
      "image/png": "[encoded data removed]",
      "text/plain": [
       "<matplotlib.figure.Figure at 0x61f3c10>"
      ]
     },
     "metadata": {},
     "output_type": "display_data"
    }
   ],
   "source": [
    "fig, ax = plt.subplots()\n",
    "\n",
    "index = np.arange(len(duree))\n",
    "width = 1.0 / (len(taux)+1)\n",
    "rect=list()\n",
    "taux_leg=list()\n",
    "colors='rgbm'\n",
    "for i in range(len(taux)):\n",
    "    rect.append(ax.bar(index+i*width, capital[i], width, \n",
    "                       color=colors[i],\n",
    "                       alpha=0.75))\n",
    "    taux_leg.append(str(taux[i]*100)+' %')                       \n",
    "\n",
    "plt.title(\"Montant finançable pour une\\n mensualité fixe de {} EUR\".format(mensualite))\n",
    "plt.grid(color='k')\n",
    "plt.xlabel('Durée du prêt (an)')\n",
    "plt.ylabel('Montant finançable (EUR)')\n",
    "plt.legend(taux_leg, title='Taux', loc='upper left')\n",
    "plt.xticks(index + 2*width, duree)"
   ]
  },
  {
   "cell_type": "code",
   "execution_count": null,
   "metadata": {
    "collapsed": true
   },
   "outputs": [],
   "source": []
  }
 ],
 "metadata": {
  "kernelspec": {
   "display_name": "Python 3",
   "language": "python",
   "name": "python3"
  },
  "language_info": {
   "codemirror_mode": {
    "name": "ipython",
    "version": 3
   },
   "file_extension": ".py",
   "mimetype": "text/x-python",
   "name": "python",
   "nbconvert_exporter": "python",
   "pygments_lexer": "ipython3",
   "version": "3.4.1"
  }
 },
 "nbformat": 4,
 "nbformat_minor": 0
}
